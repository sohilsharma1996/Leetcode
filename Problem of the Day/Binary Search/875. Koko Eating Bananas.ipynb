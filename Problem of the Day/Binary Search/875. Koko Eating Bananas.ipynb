{
 "cells": [
  {
   "cell_type": "markdown",
   "id": "811171f5",
   "metadata": {},
   "source": [
    "Koko loves to eat bananas. There are n piles of bananas, the ith pile has piles[i] bananas. The guards have gone and will come back in h hours.\n",
    "\n",
    "Koko can decide her bananas-per-hour eating speed of k. Each hour, she chooses some pile of bananas and eats k bananas from that pile. If the pile has less than k bananas, she eats all of them instead and will not eat any more bananas during this hour.\n",
    "\n",
    "Koko likes to eat slowly but still wants to finish eating all the bananas before the guards return.\n",
    "\n",
    "Return the minimum integer k such that she can eat all the bananas within h hours."
   ]
  },
  {
   "cell_type": "markdown",
   "id": "b85605c9",
   "metadata": {},
   "source": [
    "**Example 1** : "
   ]
  },
  {
   "cell_type": "markdown",
   "id": "baf6bf9b",
   "metadata": {},
   "source": [
    "Input: piles = [3,6,7,11], h = 8\n",
    "\n",
    "Output: 4"
   ]
  },
  {
   "cell_type": "markdown",
   "id": "6a2d2ddd",
   "metadata": {},
   "source": [
    "**Example 2:**"
   ]
  },
  {
   "cell_type": "markdown",
   "id": "5f697de8",
   "metadata": {},
   "source": [
    "Input: piles = [30,11,23,4,20], h = 5\n",
    "    \n",
    "Output: 30"
   ]
  },
  {
   "cell_type": "markdown",
   "id": "7c37b113",
   "metadata": {},
   "source": [
    "**Example 3:**"
   ]
  },
  {
   "cell_type": "markdown",
   "id": "ebd854db",
   "metadata": {},
   "source": [
    "Input: piles = [30,11,23,4,20], h = 6\n",
    "    \n",
    "Output: 23"
   ]
  },
  {
   "cell_type": "markdown",
   "id": "bfc9878e",
   "metadata": {},
   "source": [
    "**Intuition :**"
   ]
  },
  {
   "cell_type": "markdown",
   "id": "1cab7f7e",
   "metadata": {},
   "source": [
    "For any random value of value k, let's say that 'total' is the number of Hours Taken by Koko to eat Bananas.\n",
    "\n",
    "Consider the example 1: \n",
    "pile : [3,6,7,11]"
   ]
  },
  {
   "cell_type": "markdown",
   "id": "2c25fb66",
   "metadata": {},
   "source": [
    "Here, given h = 8.\n",
    "We are given that \"If the pile has less than k bananas, she eats all of them instead and will not eat any more bananas during this hour.\"\n",
    "\n",
    "And , if we consider random value of k = 3,\n",
    "- pile[0] will be finished in 1 hr.\n",
    "- pile[1] will be finished in 2 hrs.\n",
    "- pile[2] will be finished in 3 hrs.\n",
    "- pile[3] will be finished in 4 hrs.\n",
    "\n",
    "Thus , total amount of Time taken = 10 hrs."
   ]
  },
  {
   "cell_type": "markdown",
   "id": "fda9f534",
   "metadata": {},
   "source": [
    "**Approach :**"
   ]
  },
  {
   "cell_type": "markdown",
   "id": "8f6039d9",
   "metadata": {},
   "source": [
    "We can use Binary Search , since we are to obtain a minimum value of a Parameter , with some constraint present."
   ]
  },
  {
   "cell_type": "markdown",
   "id": "f87ff4b8",
   "metadata": {},
   "source": [
    "- If total > h: increase k\n",
    "- If total < h: decrease k\n",
    "- Method : Binary Search => here k is depending on how many 'total' number of hrs are there.\n",
    "\n",
    "- if total > h: k = mid + 1\n",
    "- if total < h: k = mid - 1\n",
    "\n",
    "Note : Whenever we need to find minimum value of a variable , under certain constraints/ conditions, we will use Binary Search.\n",
    "Here, Binary Sarch on Answer. This means that here, we need to perform Binary Search on 'k' variable.\n",
    "- Thus, min(k) = 1 ; max(k) = max(array) [k => number of bananas koko can eat per hr]\n",
    "\n",
    "- Consider k as mid in this range. And for that mid, find total.\n",
    "- [if total > h: k = mid + 1 ; if total < h: k = mid - 1]\n",
    "- Consider, left = 1 , right = max(arr), initially.\n",
    "- Everytime , we are updating our 'k' , either left / right values will get updated."
   ]
  },
  {
   "cell_type": "markdown",
   "id": "17a72dd6",
   "metadata": {},
   "source": [
    "**Solution :**"
   ]
  },
  {
   "cell_type": "code",
   "execution_count": 1,
   "id": "d83bc573",
   "metadata": {},
   "outputs": [],
   "source": [
    "class Solution:\n",
    "    def minEatingSpeed(self, piles, h: int) -> int:\n",
    "        left = 1\n",
    "        right = max(piles)\n",
    "        while left < right :\n",
    "            mid = ( left + right ) //2\n",
    "            total = 0\n",
    "            for j in piles:\n",
    "                total += ( (j - 1) // mid ) + 1\n",
    "            if total > h:\n",
    "                left = mid + 1\n",
    "            else:\n",
    "                right = mid\n",
    "        return left\n",
    "\n",
    "# Another Method : \n",
    "# return bisect_left(range(1,max(piles)), True , key=lambda t:sum(ceil(pile/t) for pile in piles)<=h )+1"
   ]
  },
  {
   "cell_type": "markdown",
   "id": "73b6825c",
   "metadata": {},
   "source": [
    "Time complexity: O(n*log(m))\n",
    "\n",
    "where n => n(piles in array) [Linear Loop] and m => Range considered for k (to perform Binary Search)."
   ]
  },
  {
   "cell_type": "code",
   "execution_count": null,
   "id": "5c01d187",
   "metadata": {},
   "outputs": [],
   "source": []
  }
 ],
 "metadata": {
  "kernelspec": {
   "display_name": "Python 3 (ipykernel)",
   "language": "python",
   "name": "python3"
  },
  "language_info": {
   "codemirror_mode": {
    "name": "ipython",
    "version": 3
   },
   "file_extension": ".py",
   "mimetype": "text/x-python",
   "name": "python",
   "nbconvert_exporter": "python",
   "pygments_lexer": "ipython3",
   "version": "3.9.13"
  }
 },
 "nbformat": 4,
 "nbformat_minor": 5
}
