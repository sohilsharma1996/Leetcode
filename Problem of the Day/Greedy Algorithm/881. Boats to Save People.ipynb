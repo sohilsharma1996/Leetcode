{
 "cells": [
  {
   "cell_type": "markdown",
   "id": "ceeee3c8",
   "metadata": {},
   "source": [
    "You are given an array people where people[i] is the weight of the ith person, and an infinite number of boats where each boat can carry a maximum weight of limit. Each boat carries at most two people at the same time, provided the sum of the weight of those people is at most limit.\n",
    "\n"
   ]
  },
  {
   "cell_type": "markdown",
   "id": "54e88fc2",
   "metadata": {},
   "source": [
    "Return the minimum number of boats to carry every given person."
   ]
  },
  {
   "cell_type": "markdown",
   "id": "e8c156e7",
   "metadata": {},
   "source": [
    "- **Example 1:**\n",
    "\n",
    "Input: people = [1,2], limit = 3\n",
    "\n",
    "Output: 1\n",
    "\n",
    "Explanation: 1 boat (1, 2)"
   ]
  },
  {
   "cell_type": "markdown",
   "id": "57d19cc9",
   "metadata": {},
   "source": [
    "- **Example 2:**\n",
    "\n",
    "Input: people = [3,2,2,1], limit = 3\n",
    "\n",
    "Output: 3\n",
    "\n",
    "Explanation: 3 boats (1, 2), (2) and (3)"
   ]
  },
  {
   "cell_type": "markdown",
   "id": "dbb52200",
   "metadata": {},
   "source": [
    "- **Example 3:**\n",
    "\n",
    "Input: people = [3,5,3,4], limit = 5\n",
    "\n",
    "Output: 4\n",
    "\n",
    "Explanation: 4 boats (3), (3), (4), (5)"
   ]
  },
  {
   "cell_type": "markdown",
   "id": "ed84f290",
   "metadata": {},
   "source": [
    "# Solution :"
   ]
  },
  {
   "cell_type": "markdown",
   "id": "cc0d8608",
   "metadata": {},
   "source": [
    "- Pair heaviest person with the lightest person.(Greedy Solution). Thus, we can sort the input array, and then look for pairs of 'limit' value.\n",
    "- After one pair is adjusted in 1 boat, we can look for the next heaviest and next lightest person.\n",
    "- Thus, we are using 2 - pointer approach, where one pointer points towards the light-weight ppl and other towards heavy-weight ppl."
   ]
  },
  {
   "cell_type": "code",
   "execution_count": null,
   "id": "e54b09c6",
   "metadata": {},
   "outputs": [],
   "source": [
    "class Solution:\n",
    "    def numRescueBoats(self, people, limit) -> int:\n",
    "        people.sort()\n",
    "        number_of_boats = 0\n",
    "        l , r = 0 , len(people) - 1\n",
    "        while l <= r:\n",
    "            remaining_weight = limit - people[r]   # Remaining Weight after the Heaviest Person is considered\n",
    "            r -= 1                                 # The Next Heaviest Person is considered\n",
    "            number_of_boats += 1                   # Number of Boats are increased\n",
    "            if l <= r and remaining_weight >= people[l]:# To make sure the light-weight ppl get paired with heavy-weight ones\n",
    "                l += 1\n",
    "        return number_of_boats"
   ]
  }
 ],
 "metadata": {
  "kernelspec": {
   "display_name": "Python 3 (ipykernel)",
   "language": "python",
   "name": "python3"
  },
  "language_info": {
   "codemirror_mode": {
    "name": "ipython",
    "version": 3
   },
   "file_extension": ".py",
   "mimetype": "text/x-python",
   "name": "python",
   "nbconvert_exporter": "python",
   "pygments_lexer": "ipython3",
   "version": "3.9.13"
  }
 },
 "nbformat": 4,
 "nbformat_minor": 5
}
